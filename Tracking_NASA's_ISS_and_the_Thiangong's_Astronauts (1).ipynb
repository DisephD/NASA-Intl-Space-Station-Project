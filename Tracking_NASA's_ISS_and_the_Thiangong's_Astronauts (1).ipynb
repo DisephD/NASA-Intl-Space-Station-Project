{
  "nbformat": 4,
  "nbformat_minor": 0,
  "metadata": {
    "colab": {
      "provenance": []
    },
    "kernelspec": {
      "name": "python3",
      "display_name": "Python 3"
    },
    "language_info": {
      "name": "python"
    }
  },
  "cells": [
    {
      "cell_type": "code",
      "source": [
        "!pip install wikipedia"
      ],
      "metadata": {
        "colab": {
          "base_uri": "https://localhost:8080/"
        },
        "collapsed": true,
        "id": "RXNGpqdW6fdo",
        "outputId": "143ab24f-68a8-4b4b-c389-56630d6f7736"
      },
      "execution_count": null,
      "outputs": [
        {
          "output_type": "stream",
          "name": "stdout",
          "text": [
            "Collecting wikipedia\n",
            "  Downloading wikipedia-1.4.0.tar.gz (27 kB)\n",
            "  Preparing metadata (setup.py) ... \u001b[?25l\u001b[?25hdone\n",
            "Requirement already satisfied: beautifulsoup4 in /usr/local/lib/python3.10/dist-packages (from wikipedia) (4.12.3)\n",
            "Requirement already satisfied: requests<3.0.0,>=2.0.0 in /usr/local/lib/python3.10/dist-packages (from wikipedia) (2.32.3)\n",
            "Requirement already satisfied: charset-normalizer<4,>=2 in /usr/local/lib/python3.10/dist-packages (from requests<3.0.0,>=2.0.0->wikipedia) (3.3.2)\n",
            "Requirement already satisfied: idna<4,>=2.5 in /usr/local/lib/python3.10/dist-packages (from requests<3.0.0,>=2.0.0->wikipedia) (3.10)\n",
            "Requirement already satisfied: urllib3<3,>=1.21.1 in /usr/local/lib/python3.10/dist-packages (from requests<3.0.0,>=2.0.0->wikipedia) (2.2.3)\n",
            "Requirement already satisfied: certifi>=2017.4.17 in /usr/local/lib/python3.10/dist-packages (from requests<3.0.0,>=2.0.0->wikipedia) (2024.8.30)\n",
            "Requirement already satisfied: soupsieve>1.2 in /usr/local/lib/python3.10/dist-packages (from beautifulsoup4->wikipedia) (2.6)\n",
            "Building wheels for collected packages: wikipedia\n",
            "  Building wheel for wikipedia (setup.py) ... \u001b[?25l\u001b[?25hdone\n",
            "  Created wheel for wikipedia: filename=wikipedia-1.4.0-py3-none-any.whl size=11679 sha256=55488cf4c9e3f4f2753903b1d785f589ec68272c487443c2dad5a795e2534396\n",
            "  Stored in directory: /root/.cache/pip/wheels/5e/b6/c5/93f3dec388ae76edc830cb42901bb0232504dfc0df02fc50de\n",
            "Successfully built wikipedia\n",
            "Installing collected packages: wikipedia\n",
            "Successfully installed wikipedia-1.4.0\n"
          ]
        }
      ]
    },
    {
      "cell_type": "code",
      "execution_count": null,
      "metadata": {
        "id": "DbviGFzFbWwf"
      },
      "outputs": [],
      "source": [
        "import folium\n",
        "import wikipedia as wiki\n",
        "import re\n",
        "import pandas as pd\n",
        "import requests\n",
        "import urllib.request\n",
        "import json\n",
        "import time\n",
        "from bs4 import BeautifulSoup\n",
        "from pprint import pprint\n",
        "from datetime import date"
      ]
    },
    {
      "cell_type": "code",
      "source": [
        "url = \"http://api.open-notify.org/iss-now.json\"\n",
        "response = urllib.request.urlopen(url,timeout=90)\n",
        "result = json.loads(response.read())\n",
        "location = result [\"iss_position\"]\n",
        "lat = location [\"latitude\"]\n",
        "lon = location [\"longitude\"]\n",
        "lat = float(lat)\n",
        "lon = float (lon)"
      ],
      "metadata": {
        "id": "eWdsl716mtSF"
      },
      "execution_count": null,
      "outputs": []
    },
    {
      "cell_type": "code",
      "source": [
        "print (\"\\nLatitude: \" + str(lat))\n",
        "print (\"\\nLatitude: \" + str(lon))\n",
        "\n",
        "time.sleep(5)"
      ],
      "metadata": {
        "id": "Sep5-G-PQ5tD"
      },
      "execution_count": null,
      "outputs": []
    },
    {
      "cell_type": "code",
      "source": [
        "map = folium.Map(zoom_start = 5, location = [lat,lon])\n",
        "folium.Marker(location=[lat,lon], icon= folium.Icon(icon=\"glyphicon-plane\", color = \"red\"),\n",
        "              popup= folium.Popup(\"Current\"),\n",
        "              tooltip = \"Current ISS location\", ).add_to(map)\n",
        "map"
      ],
      "metadata": {
        "colab": {
          "base_uri": "https://localhost:8080/",
          "height": 608
        },
        "id": "jdHGeujnjyUF",
        "outputId": "c2ef69a1-a86a-49eb-9fde-6898d294606d"
      },
      "execution_count": null,
      "outputs": [
        {
          "output_type": "execute_result",
          "data": {
            "text/plain": [
              "<folium.folium.Map at 0x785edb9372e0>"
            ],
            "text/html": [
              "<div style=\"width:100%;\"><div style=\"position:relative;width:100%;height:0;padding-bottom:60%;\"><span style=\"color:#565656\">Make this Notebook Trusted to load map: File -> Trust Notebook</span><iframe srcdoc=\"&lt;!DOCTYPE html&gt;\n",
              "&lt;html&gt;\n",
              "&lt;head&gt;\n",
              "    \n",
              "    &lt;meta http-equiv=&quot;content-type&quot; content=&quot;text/html; charset=UTF-8&quot; /&gt;\n",
              "    \n",
              "        &lt;script&gt;\n",
              "            L_NO_TOUCH = false;\n",
              "            L_DISABLE_3D = false;\n",
              "        &lt;/script&gt;\n",
              "    \n",
              "    &lt;style&gt;html, body {width: 100%;height: 100%;margin: 0;padding: 0;}&lt;/style&gt;\n",
              "    &lt;style&gt;#map {position:absolute;top:0;bottom:0;right:0;left:0;}&lt;/style&gt;\n",
              "    &lt;script src=&quot;https://cdn.jsdelivr.net/npm/leaflet@1.9.3/dist/leaflet.js&quot;&gt;&lt;/script&gt;\n",
              "    &lt;script src=&quot;https://code.jquery.com/jquery-3.7.1.min.js&quot;&gt;&lt;/script&gt;\n",
              "    &lt;script src=&quot;https://cdn.jsdelivr.net/npm/bootstrap@5.2.2/dist/js/bootstrap.bundle.min.js&quot;&gt;&lt;/script&gt;\n",
              "    &lt;script src=&quot;https://cdnjs.cloudflare.com/ajax/libs/Leaflet.awesome-markers/2.0.2/leaflet.awesome-markers.js&quot;&gt;&lt;/script&gt;\n",
              "    &lt;link rel=&quot;stylesheet&quot; href=&quot;https://cdn.jsdelivr.net/npm/leaflet@1.9.3/dist/leaflet.css&quot;/&gt;\n",
              "    &lt;link rel=&quot;stylesheet&quot; href=&quot;https://cdn.jsdelivr.net/npm/bootstrap@5.2.2/dist/css/bootstrap.min.css&quot;/&gt;\n",
              "    &lt;link rel=&quot;stylesheet&quot; href=&quot;https://netdna.bootstrapcdn.com/bootstrap/3.0.0/css/bootstrap-glyphicons.css&quot;/&gt;\n",
              "    &lt;link rel=&quot;stylesheet&quot; href=&quot;https://cdn.jsdelivr.net/npm/@fortawesome/fontawesome-free@6.2.0/css/all.min.css&quot;/&gt;\n",
              "    &lt;link rel=&quot;stylesheet&quot; href=&quot;https://cdnjs.cloudflare.com/ajax/libs/Leaflet.awesome-markers/2.0.2/leaflet.awesome-markers.css&quot;/&gt;\n",
              "    &lt;link rel=&quot;stylesheet&quot; href=&quot;https://cdn.jsdelivr.net/gh/python-visualization/folium/folium/templates/leaflet.awesome.rotate.min.css&quot;/&gt;\n",
              "    \n",
              "            &lt;meta name=&quot;viewport&quot; content=&quot;width=device-width,\n",
              "                initial-scale=1.0, maximum-scale=1.0, user-scalable=no&quot; /&gt;\n",
              "            &lt;style&gt;\n",
              "                #map_b7e05a9ad54072253052e6633f0326f1 {\n",
              "                    position: relative;\n",
              "                    width: 100.0%;\n",
              "                    height: 100.0%;\n",
              "                    left: 0.0%;\n",
              "                    top: 0.0%;\n",
              "                }\n",
              "                .leaflet-container { font-size: 1rem; }\n",
              "            &lt;/style&gt;\n",
              "        \n",
              "&lt;/head&gt;\n",
              "&lt;body&gt;\n",
              "    \n",
              "    \n",
              "            &lt;div class=&quot;folium-map&quot; id=&quot;map_b7e05a9ad54072253052e6633f0326f1&quot; &gt;&lt;/div&gt;\n",
              "        \n",
              "&lt;/body&gt;\n",
              "&lt;script&gt;\n",
              "    \n",
              "    \n",
              "            var map_b7e05a9ad54072253052e6633f0326f1 = L.map(\n",
              "                &quot;map_b7e05a9ad54072253052e6633f0326f1&quot;,\n",
              "                {\n",
              "                    center: [-16.1971, 1.6258],\n",
              "                    crs: L.CRS.EPSG3857,\n",
              "                    zoom: 5,\n",
              "                    zoomControl: true,\n",
              "                    preferCanvas: false,\n",
              "                }\n",
              "            );\n",
              "\n",
              "            \n",
              "\n",
              "        \n",
              "    \n",
              "            var tile_layer_88d65f89db839f1b9eaf15613f56e5f7 = L.tileLayer(\n",
              "                &quot;https://tile.openstreetmap.org/{z}/{x}/{y}.png&quot;,\n",
              "                {&quot;attribution&quot;: &quot;\\u0026copy; \\u003ca href=\\&quot;https://www.openstreetmap.org/copyright\\&quot;\\u003eOpenStreetMap\\u003c/a\\u003e contributors&quot;, &quot;detectRetina&quot;: false, &quot;maxNativeZoom&quot;: 19, &quot;maxZoom&quot;: 19, &quot;minZoom&quot;: 0, &quot;noWrap&quot;: false, &quot;opacity&quot;: 1, &quot;subdomains&quot;: &quot;abc&quot;, &quot;tms&quot;: false}\n",
              "            );\n",
              "        \n",
              "    \n",
              "            tile_layer_88d65f89db839f1b9eaf15613f56e5f7.addTo(map_b7e05a9ad54072253052e6633f0326f1);\n",
              "        \n",
              "    \n",
              "            var marker_3f97a3a1327446ee71ea9cbe1e25264c = L.marker(\n",
              "                [-16.1971, 1.6258],\n",
              "                {}\n",
              "            ).addTo(map_b7e05a9ad54072253052e6633f0326f1);\n",
              "        \n",
              "    \n",
              "            var icon_b1ee9b68a0d22faefd0a772f963913af = L.AwesomeMarkers.icon(\n",
              "                {&quot;extraClasses&quot;: &quot;fa-rotate-0&quot;, &quot;icon&quot;: &quot;glyphicon-plane&quot;, &quot;iconColor&quot;: &quot;white&quot;, &quot;markerColor&quot;: &quot;red&quot;, &quot;prefix&quot;: &quot;glyphicon&quot;}\n",
              "            );\n",
              "            marker_3f97a3a1327446ee71ea9cbe1e25264c.setIcon(icon_b1ee9b68a0d22faefd0a772f963913af);\n",
              "        \n",
              "    \n",
              "        var popup_c2a9dc583a5b4cc09ce75340293f45c7 = L.popup({&quot;maxWidth&quot;: &quot;100%&quot;});\n",
              "\n",
              "        \n",
              "            \n",
              "                var html_2c3eb83b4ac59dd7590db252b2076d13 = $(`&lt;div id=&quot;html_2c3eb83b4ac59dd7590db252b2076d13&quot; style=&quot;width: 100.0%; height: 100.0%;&quot;&gt;Current&lt;/div&gt;`)[0];\n",
              "                popup_c2a9dc583a5b4cc09ce75340293f45c7.setContent(html_2c3eb83b4ac59dd7590db252b2076d13);\n",
              "            \n",
              "        \n",
              "\n",
              "        marker_3f97a3a1327446ee71ea9cbe1e25264c.bindPopup(popup_c2a9dc583a5b4cc09ce75340293f45c7)\n",
              "        ;\n",
              "\n",
              "        \n",
              "    \n",
              "    \n",
              "            marker_3f97a3a1327446ee71ea9cbe1e25264c.bindTooltip(\n",
              "                `&lt;div&gt;\n",
              "                     Current ISS location\n",
              "                 &lt;/div&gt;`,\n",
              "                {&quot;sticky&quot;: true}\n",
              "            );\n",
              "        \n",
              "&lt;/script&gt;\n",
              "&lt;/html&gt;\" style=\"position:absolute;width:100%;height:100%;left:0;top:0;border:none !important;\" allowfullscreen webkitallowfullscreen mozallowfullscreen></iframe></div></div>"
            ]
          },
          "metadata": {},
          "execution_count": 4
        }
      ]
    },
    {
      "cell_type": "code",
      "source": [
        "url = \"http://api.open-notify.org/astros.json\"\n",
        "response = urllib.request.urlopen(url,timeout=90)\n",
        "result = json.loads(response.read())\n",
        "people = result ['people']\n",
        "\n",
        "astronauts = []\n",
        "spacecraft = []\n",
        "for p in people:\n",
        "    astronauts.append(p['name'])\n",
        "    spacecraft.append(p['craft'])"
      ],
      "metadata": {
        "id": "ukALjxI76sbO"
      },
      "execution_count": null,
      "outputs": []
    },
    {
      "cell_type": "code",
      "source": [
        "print(astronauts)"
      ],
      "metadata": {
        "colab": {
          "base_uri": "https://localhost:8080/"
        },
        "id": "SJDhSM_C9gJV",
        "outputId": "f8fcebdc-e4c3-4bd5-8488-0f16aa2f020c"
      },
      "execution_count": null,
      "outputs": [
        {
          "output_type": "stream",
          "name": "stdout",
          "text": [
            "['Oleg Kononenko', 'Nikolai Chub', 'Tracy Caldwell Dyson', 'Matthew Dominick', 'Michael Barratt', 'Jeanette Epps', 'Alexander Grebenkin', 'Butch Wilmore', 'Sunita Williams', 'Li Guangsu', 'Li Cong', 'Ye Guangfu']\n"
          ]
        }
      ]
    },
    {
      "cell_type": "code",
      "source": [
        "astro_page = []\n",
        "for astronaut in astronauts:\n",
        "  try:\n",
        "    page = wiki.page(astronaut, auto_suggest=False)\n",
        "    if 'astronaut' in page.summary.lower() or 'taikonaut' in page.summary.lower() or \"cosmonaut\" in page.summary.lower():\n",
        "        astro_page.append(page.url)\n",
        "        print(page.url)\n",
        "    else:\n",
        "        page = wiki.page(f\"{astronaut} taikonaut\")\n",
        "        astro_page.append(page.url)\n",
        "        print(page.url)\n",
        "\n",
        "  except wiki.DisambiguationError as e:\n",
        "    for option in e.options:\n",
        "      if \"astronaut\" in option.lower():\n",
        "        try:\n",
        "          page = wiki.page(option)\n",
        "          astro_page.append(page.url)\n",
        "          print (page.url)\n",
        "        except wiki.DisambiguationError:\n",
        "          continue\n",
        "\n",
        "  except wiki.PageError:\n",
        "      print(f\"Page not found for {astronaut}.\")"
      ],
      "metadata": {
        "colab": {
          "base_uri": "https://localhost:8080/"
        },
        "id": "OS3K-yHV8gx5",
        "outputId": "212599d7-a553-49fa-ca09-22f57dcbf5ad"
      },
      "execution_count": null,
      "outputs": [
        {
          "output_type": "stream",
          "name": "stdout",
          "text": [
            "https://en.wikipedia.org/wiki/Oleg_Kononenko\n",
            "https://en.wikipedia.org/wiki/Nikolai_Chub\n",
            "https://en.wikipedia.org/wiki/Tracy_Caldwell_Dyson\n",
            "https://en.wikipedia.org/wiki/Matthew_Dominick\n"
          ]
        },
        {
          "output_type": "stream",
          "name": "stderr",
          "text": [
            "/usr/local/lib/python3.10/dist-packages/wikipedia/wikipedia.py:389: GuessedAtParserWarning: No parser was explicitly specified, so I'm using the best available HTML parser for this system (\"lxml\"). This usually isn't a problem, but if you run this code on another system, or in a different virtual environment, it may use a different parser and behave differently.\n",
            "\n",
            "The code that caused this warning is on line 389 of the file /usr/local/lib/python3.10/dist-packages/wikipedia/wikipedia.py. To get rid of this warning, pass the additional argument 'features=\"lxml\"' to the BeautifulSoup constructor.\n",
            "\n",
            "  lis = BeautifulSoup(html).find_all('li')\n"
          ]
        },
        {
          "output_type": "stream",
          "name": "stdout",
          "text": [
            "https://en.wikipedia.org/wiki/Michael_Barratt_(astronaut)\n",
            "https://en.wikipedia.org/wiki/Jeanette_Epps\n",
            "https://en.wikipedia.org/wiki/Alexander_Grebenkin\n",
            "https://en.wikipedia.org/wiki/Barry_E._Wilmore\n",
            "https://en.wikipedia.org/wiki/Sunita_Williams\n",
            "https://en.wikipedia.org/wiki/Li_Guangsu\n",
            "https://en.wikipedia.org/wiki/Li_Cong_(taikonaut)\n",
            "https://en.wikipedia.org/wiki/Ye_Guangfu\n"
          ]
        }
      ]
    },
    {
      "cell_type": "code",
      "source": [
        "for page in astro_page:\n",
        "  url = page\n",
        "  r = requests.get (url=url)\n",
        "  soup = BeautifulSoup(r.content)\n",
        "  nationality = soup.select(\"main#content div.shortdescription.nomobile.noexcerpt.noprint.searchaux\")\n",
        "  print (nationality)"
      ],
      "metadata": {
        "id": "gkX2xrFwGfyV",
        "colab": {
          "base_uri": "https://localhost:8080/"
        },
        "collapsed": true,
        "outputId": "0e7accda-f0a3-465c-f90e-a0799a46f26f"
      },
      "execution_count": null,
      "outputs": [
        {
          "output_type": "stream",
          "name": "stdout",
          "text": [
            "[<div class=\"shortdescription nomobile noexcerpt noprint searchaux\" style=\"display:none\">Turkmen-Russian cosmonaut (born 1964)</div>]\n",
            "[<div class=\"shortdescription nomobile noexcerpt noprint searchaux\" style=\"display:none\">Russian cosmonaut (born 1984)</div>]\n",
            "[<div class=\"shortdescription nomobile noexcerpt noprint searchaux\" style=\"display:none\">American chemist and NASA astronaut</div>]\n",
            "[<div class=\"shortdescription nomobile noexcerpt noprint searchaux\" style=\"display:none\">American test pilot and astronaut</div>]\n",
            "[<div class=\"shortdescription nomobile noexcerpt noprint searchaux\" style=\"display:none\">American aerospace medicine physician and astronaut born 1959</div>]\n",
            "[<div class=\"shortdescription nomobile noexcerpt noprint searchaux\" style=\"display:none\">American aerospace engineer and NASA astronaut born 1970</div>]\n",
            "[<div class=\"shortdescription nomobile noexcerpt noprint searchaux\" style=\"display:none\">Russian cosmonaut (born 1982)</div>]\n",
            "[<div class=\"shortdescription nomobile noexcerpt noprint searchaux\" style=\"display:none\">American astronaut</div>]\n",
            "[<div class=\"shortdescription nomobile noexcerpt noprint searchaux\" style=\"display:none\">American astronaut and Navy officer (born 1965)</div>]\n",
            "[<div class=\"shortdescription nomobile noexcerpt noprint searchaux\" style=\"display:none\">Chinese astronaut (born 1987)</div>]\n",
            "[<div class=\"shortdescription nomobile noexcerpt noprint searchaux\" style=\"display:none\">Chinese astronaut (born 1989)</div>]\n",
            "[<div class=\"shortdescription nomobile noexcerpt noprint searchaux\" style=\"display:none\">Chinese taikonaut (born 1980)</div>]\n",
            "[<div class=\"shortdescription nomobile noexcerpt noprint searchaux\" style=\"display:none\">Turkmen-Russian cosmonaut (born 1964)</div>]\n",
            "[<div class=\"shortdescription nomobile noexcerpt noprint searchaux\" style=\"display:none\">Russian cosmonaut (born 1984)</div>]\n",
            "[<div class=\"shortdescription nomobile noexcerpt noprint searchaux\" style=\"display:none\">American chemist and NASA astronaut</div>]\n",
            "[<div class=\"shortdescription nomobile noexcerpt noprint searchaux\" style=\"display:none\">American test pilot and astronaut</div>]\n",
            "[<div class=\"shortdescription nomobile noexcerpt noprint searchaux\" style=\"display:none\">American aerospace medicine physician and astronaut born 1959</div>]\n",
            "[<div class=\"shortdescription nomobile noexcerpt noprint searchaux\" style=\"display:none\">American aerospace engineer and NASA astronaut born 1970</div>]\n",
            "[<div class=\"shortdescription nomobile noexcerpt noprint searchaux\" style=\"display:none\">Russian cosmonaut (born 1982)</div>]\n",
            "[<div class=\"shortdescription nomobile noexcerpt noprint searchaux\" style=\"display:none\">American astronaut</div>]\n",
            "[<div class=\"shortdescription nomobile noexcerpt noprint searchaux\" style=\"display:none\">American astronaut and Navy officer (born 1965)</div>]\n",
            "[<div class=\"shortdescription nomobile noexcerpt noprint searchaux\" style=\"display:none\">Chinese astronaut (born 1987)</div>]\n",
            "[<div class=\"shortdescription nomobile noexcerpt noprint searchaux\" style=\"display:none\">Chinese astronaut (born 1989)</div>]\n",
            "[<div class=\"shortdescription nomobile noexcerpt noprint searchaux\" style=\"display:none\">Chinese taikonaut (born 1980)</div>]\n"
          ]
        }
      ]
    },
    {
      "cell_type": "code",
      "source": [
        "img_links = []\n",
        "img_src_list = []\n",
        "dob_list = []\n",
        "nationality_list = []\n",
        "age_list = []\n",
        "today = date.today()\n",
        "for url in astro_page:\n",
        "    r = requests.get(url)\n",
        "    soup = BeautifulSoup(r.content, 'html.parser')\n",
        "\n",
        "    # Extracting Astronauts images\n",
        "    covers = soup.select(\"main#content table.biography tbody tr td.infobox-image span a.mw-file-description img\")\n",
        "    img_src_list.extend(img.get('src') for img in covers)\n",
        "\n",
        "    # Extracting and Manipulating their birth dates\n",
        "    infobox_table = soup.find('table', class_='infobox biography vcard')\n",
        "    if infobox_table:\n",
        "        next_sibling = infobox_table.find_next_sibling()\n",
        "        while next_sibling and next_sibling.name != 'p':\n",
        "            next_sibling = next_sibling.find_next_sibling()\n",
        "        if next_sibling and next_sibling.name == 'p':\n",
        "            paragraph_text = next_sibling.get_text(strip=True)\n",
        "            year_match = re.search(r'\\b(19|20)\\d{2}\\b', paragraph_text)\n",
        "            if year_match:\n",
        "                birth_year = int(year_match.group(0))\n",
        "                age = today.year - birth_year\n",
        "                dob_list.append(birth_year)\n",
        "                age_list.append(age)\n",
        "            else:\n",
        "                dob_list.append(\"Year not found\")\n",
        "                age_list.append(\"Age not found\")\n",
        "        else:\n",
        "            dob_list.append(\"No paragraph found immediately following the infobox table.\")\n",
        "            age_list.append(\"Age not found\")\n",
        "    else:\n",
        "        dob_list.append(\"Infobox table not found.\")\n",
        "        age_list.append(\"Age not found\")\n",
        "\n",
        "    # Extract nationality\n",
        "    shortdescription_div = soup.select(\"main#content div.shortdescription.nomobile.noexcerpt.noprint.searchaux\")\n",
        "    if shortdescription_div:\n",
        "        for div in shortdescription_div:\n",
        "            text = div.get_text(strip=True)\n",
        "            nationality_match = re.match(r'\\b\\w+\\b', text)\n",
        "            nationality_list.append(nationality_match.group(0) if nationality_match else \"Nationality not found\")\n",
        "    else:\n",
        "        nationality_list.append(\"Info not found\")\n",
        "\n",
        "# Ensure all lists are the same length\n",
        "max_length = max(len(img_src_list), len(dob_list), len(nationality_list), len(age_list))\n",
        "img_src_list.extend([\"\"] * (max_length - len(img_src_list)))\n",
        "dob_list.extend([\"\"] * (max_length - len(dob_list)))\n",
        "nationality_list.extend([\"\"] * (max_length - len(nationality_list)))\n",
        "age_list.extend([\"\"] * (max_length - len(age_list)))\n",
        "\n"
      ],
      "metadata": {
        "collapsed": true,
        "id": "LMYmiG3q5jaC"
      },
      "execution_count": null,
      "outputs": []
    },
    {
      "cell_type": "code",
      "source": [
        "for astronaut in astronauts:\n",
        "    try:\n",
        "        page = wiki.page(astronaut, auto_suggest=False)\n",
        "        if 'astronaut' in page.summary.lower() or 'taikonaut' in page.summary.lower() or \"cosmonaut\" in page.summary.lower():\n",
        "            astro_page.append(page.url)\n",
        "            print(page.url)\n",
        "        else:\n",
        "            page = wiki.page(f\"{astronaut} taikonaut\")\n",
        "            astro_page.append(page.url)\n",
        "            print(page.url)\n",
        "    except wiki.DisambiguationError as e:\n",
        "        for option in e.options:\n",
        "            if 'astronaut' in option.lower() or 'taikonaut' in option.lower():\n",
        "                try:\n",
        "                    page = wiki.page(option)\n",
        "                    if 'astronaut' in page.summary.lower() or 'taikonaut' in page.summary.lower():\n",
        "                        astro_page.append(page.url)\n",
        "                        print(page.url)\n",
        "                except wiki.DisambiguationError:\n",
        "                    continue\n",
        "    except wiki.PageError:\n",
        "        print(f\"Page not found for {astronaut}.\")"
      ],
      "metadata": {
        "id": "wDnFfZb_7xjc",
        "colab": {
          "base_uri": "https://localhost:8080/"
        },
        "outputId": "753a0f7b-5926-4dc5-f508-1baf9f5213e1"
      },
      "execution_count": null,
      "outputs": [
        {
          "output_type": "stream",
          "name": "stdout",
          "text": [
            "https://en.wikipedia.org/wiki/Oleg_Kononenko\n",
            "https://en.wikipedia.org/wiki/Nikolai_Chub\n",
            "https://en.wikipedia.org/wiki/Tracy_Caldwell_Dyson\n",
            "https://en.wikipedia.org/wiki/Matthew_Dominick\n",
            "https://en.wikipedia.org/wiki/Michael_Barratt_(astronaut)\n",
            "https://en.wikipedia.org/wiki/Jeanette_Epps\n",
            "https://en.wikipedia.org/wiki/Alexander_Grebenkin\n",
            "https://en.wikipedia.org/wiki/Barry_E._Wilmore\n",
            "https://en.wikipedia.org/wiki/Sunita_Williams\n",
            "https://en.wikipedia.org/wiki/Li_Guangsu\n",
            "https://en.wikipedia.org/wiki/Li_Cong_(taikonaut)\n",
            "https://en.wikipedia.org/wiki/Ye_Guangfu\n"
          ]
        }
      ]
    },
    {
      "cell_type": "code",
      "source": [
        "df = pd.DataFrame({\n",
        "    \"Astronaut Name\": astronauts,\n",
        "    \"Spacecraft\": spacecraft,\n",
        "    'Image Source': img_src_list,\n",
        "    'Year of Birth': dob_list,\n",
        "    \"Age\": age_list,\n",
        "    'Nationality': nationality_list,\n",
        "    \"Wikipedia Page\": astro_page\n",
        "})\n",
        "\n",
        "print(df)"
      ],
      "metadata": {
        "colab": {
          "base_uri": "https://localhost:8080/"
        },
        "id": "6A6AJgRC6VcI",
        "outputId": "0acea8f2-e32b-4a68-c021-8c7e7336f658"
      },
      "execution_count": null,
      "outputs": [
        {
          "output_type": "stream",
          "name": "stdout",
          "text": [
            "          Astronaut Name Spacecraft  \\\n",
            "0         Oleg Kononenko        ISS   \n",
            "1           Nikolai Chub        ISS   \n",
            "2   Tracy Caldwell Dyson        ISS   \n",
            "3       Matthew Dominick        ISS   \n",
            "4        Michael Barratt        ISS   \n",
            "5          Jeanette Epps        ISS   \n",
            "6    Alexander Grebenkin        ISS   \n",
            "7          Butch Wilmore        ISS   \n",
            "8        Sunita Williams        ISS   \n",
            "9             Li Guangsu   Tiangong   \n",
            "10               Li Cong   Tiangong   \n",
            "11            Ye Guangfu   Tiangong   \n",
            "\n",
            "                                         Image Source  Year of Birth  Age  \\\n",
            "0   //upload.wikimedia.org/wikipedia/commons/thumb...           1964   60   \n",
            "1   //upload.wikimedia.org/wikipedia/commons/thumb...           1984   40   \n",
            "2   //upload.wikimedia.org/wikipedia/commons/thumb...           1969   55   \n",
            "3   //upload.wikimedia.org/wikipedia/commons/thumb...           1981   43   \n",
            "4   //upload.wikimedia.org/wikipedia/commons/thumb...           1959   65   \n",
            "5   //upload.wikimedia.org/wikipedia/commons/thumb...           1970   54   \n",
            "6   //upload.wikimedia.org/wikipedia/commons/thumb...           1982   42   \n",
            "7   //upload.wikimedia.org/wikipedia/commons/thumb...           1962   62   \n",
            "8   //upload.wikimedia.org/wikipedia/commons/thumb...           1965   59   \n",
            "9   //upload.wikimedia.org/wikipedia/commons/b/bb/...           1987   37   \n",
            "10  //upload.wikimedia.org/wikipedia/commons/2/26/...           1989   35   \n",
            "11  //upload.wikimedia.org/wikipedia/commons/thumb...           1980   44   \n",
            "\n",
            "   Nationality                                     Wikipedia Page  \n",
            "0      Turkmen       https://en.wikipedia.org/wiki/Oleg_Kononenko  \n",
            "1      Russian         https://en.wikipedia.org/wiki/Nikolai_Chub  \n",
            "2     American  https://en.wikipedia.org/wiki/Tracy_Caldwell_D...  \n",
            "3     American     https://en.wikipedia.org/wiki/Matthew_Dominick  \n",
            "4     American  https://en.wikipedia.org/wiki/Michael_Barratt_...  \n",
            "5     American        https://en.wikipedia.org/wiki/Jeanette_Epps  \n",
            "6      Russian  https://en.wikipedia.org/wiki/Alexander_Grebenkin  \n",
            "7     American     https://en.wikipedia.org/wiki/Barry_E._Wilmore  \n",
            "8     American      https://en.wikipedia.org/wiki/Sunita_Williams  \n",
            "9      Chinese           https://en.wikipedia.org/wiki/Li_Guangsu  \n",
            "10     Chinese  https://en.wikipedia.org/wiki/Li_Cong_(taikonaut)  \n",
            "11     Chinese           https://en.wikipedia.org/wiki/Ye_Guangfu  \n"
          ]
        }
      ]
    },
    {
      "cell_type": "code",
      "source": [],
      "metadata": {
        "id": "zbfpdvts2FFb"
      },
      "execution_count": null,
      "outputs": []
    }
  ]
}